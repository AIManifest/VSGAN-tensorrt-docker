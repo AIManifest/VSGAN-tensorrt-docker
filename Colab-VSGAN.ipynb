{
  "cells": [
    {
      "cell_type": "markdown",
      "metadata": {
        "id": "hpqbFInxrYdL"
      },
      "source": [
        "# Colab-VSGAN\n",
        "\n",
        "My repo: [styler00dollar/VSGAN-tensorrt-docker](https://github.com/styler00dollar/VSGAN-tensorrt-docker/)"
      ]
    },
    {
      "cell_type": "code",
      "execution_count": null,
      "metadata": {
        "id": "dfWp19tKePiR"
      },
      "outputs": [],
      "source": [
        "!nvidia-smi"
      ]
    },
    {
      "cell_type": "code",
      "execution_count": null,
      "metadata": {
        "id": "50YNOoUCgcbM"
      },
      "outputs": [],
      "source": [
        "!nvcc --version"
      ]
    },
    {
      "cell_type": "code",
      "execution_count": null,
      "metadata": {
        "id": "hjfnge1eeR4C"
      },
      "outputs": [],
      "source": [
        "# check python version, for me its currently 3.7.12\n",
        "!python --version"
      ]
    },
    {
      "cell_type": "code",
      "execution_count": null,
      "metadata": {
        "cellView": "form",
        "id": "4LVR-piSdQRT"
      },
      "outputs": [],
      "source": [
        "#@title Mount Google Drive\n",
        "from google.colab import drive\n",
        "drive.mount('/content/drive',force_remount=True)"
      ]
    },
    {
      "cell_type": "markdown",
      "metadata": {
        "id": "xF70uc_kfReq"
      },
      "source": [
        "\n",
        "\n",
        "You need to get 2 files. Currently, the cuda version inside Colab is 11.1, that's why you need to get:\n",
        "```\n",
        "nv-tensorrt-repo-ubuntu1804-cuda11.4-trt8.2.3.0-ga-20220113_1-1_amd64.deb\n",
        "\n",
        "(TensorRT 8.2 GA Update 2 for Ubuntu 18.04 and CUDA 11.0, 11.1, 11.2, 11.3, 11.4 and 11.5 DEB local repo Package)\n",
        "\n",
        "and\n",
        "\n",
        "TensorRT-8.2.3.0.Linux.x86_64-gnu.cuda-11.4.cudnn8.2.tar.gz/python/tensorrt-8.2.3.0-cp37-none-linux_x86_64.whl\n",
        "\n",
        "(TensorRT 8.2 GA Update 2 for Linux x86_64 and CUDA 11.0, 11.1, 11.2, 11.3, 11.4 and 11.5 TAR Package)\n",
        "\n",
        "```\n",
        "You can download these files [here](https://developer.nvidia.com/nvidia-tensorrt-download). Warning: You need an account (which can be created for free). Put them into `gdrive/TensorRT`."
      ]
    },
    {
      "cell_type": "code",
      "execution_count": null,
      "metadata": {
        "cellView": "form",
        "id": "KC8tnFafdTRk"
      },
      "outputs": [],
      "source": [
        "#@title install tensorrt\n",
        "import os\n",
        "os.environ[\"os1\"]=\"ubuntu1804\"\n",
        "os.environ[\"tag\"]= \"cuda11.4-trt8.2.3.0-ga-20220113\" #@param\n",
        "os.environ[\"version\"]= \"8.2.3-1+cuda11.4\" #@param\n",
        "data_path = '/content/drive/MyDrive/TensorRT/' #@param\n",
        "os.chdir(data_path)\n",
        "!sudo dpkg -i nv-tensorrt-repo-${os1}-${tag}_1-1_amd64.deb\n",
        "!sudo apt-key add /var/nv-tensorrt-repo-${tag}/7fa2af80.pub\n",
        "!sudo apt-get update\n",
        "!sudo apt-get install libnvinfer8=${version} libnvonnxparsers8=${version} libnvparsers8=${version} libnvinfer-plugin8=${version} libnvinfer-dev=${version} libnvonnxparsers-dev=${version} libnvparsers-dev=${version} libnvinfer-plugin-dev=${version} python3-libnvinfer=${version}\n",
        "!sudo apt-mark hold libnvinfer8 libnvonnxparsers8 libnvparsers8 libnvinfer-plugin8 libnvinfer-dev libnvonnxparsers-dev libnvparsers-dev libnvinfer-plugin-dev python3-libnvinfer\n",
        "!sudo apt-get install tensorrt=8.2.3.0-1+cuda11.4\n",
        "!sudo apt-get install python3-libnvinfer-dev=${version}\n",
        "\n",
        "# install the whl with the matching python version\n",
        "whl_path = \"/content/drive/MyDrive/TensorRT/tensorrt-8.2.3.0-cp37-none-linux_x86_64.whl\" #@param\n",
        "!pip install {whl_path}"
      ]
    },
    {
      "cell_type": "markdown",
      "metadata": {
        "id": "50Ap6W6d3QdW"
      },
      "source": [
        "Install everything. Avoid compiling mmcv if you can, since the total install time will be long."
      ]
    },
    {
      "cell_type": "code",
      "execution_count": null,
      "metadata": {
        "cellView": "form",
        "id": "tgqMOgQvdaad"
      },
      "outputs": [],
      "source": [
        "#@title install (be patient, ~13min)\n",
        "%cd /content/\n",
        "!sudo rm -rf /workspace\n",
        "!mkdir -p /workspace/tensorrt\n",
        "%cd /workspace/tensorrt\n",
        "!git clone https://github.com/styler00dollar/VSGAN-tensorrt-docker\n",
        "\n",
        "# installing vapoursynth\n",
        "!apt install ffmpeg autoconf libtool yasm python3.9 python3.9-venv python3.9-dev ffmsindex libffms2-4 libffms2-dev -y\n",
        "!apt --fix-broken install\n",
        "!git clone https://github.com/sekrit-twc/zimg.git && cd zimg && ./autogen.sh && ./configure && make -j4 && make install && cd .. && rm -rf zimg\n",
        "!pip install Cython -U --force-reinstall\n",
        "!wget https://github.com/vapoursynth/vapoursynth/archive/refs/tags/R57.zip -P /workspace/tensorrt\n",
        "%cd /workspace/tensorrt/\n",
        "!7z x /workspace/tensorrt/R57.zip\n",
        "%cd /workspace/tensorrt/vapoursynth-R57\n",
        "!./autogen.sh && ./configure && make && make install && cd .. && ldconfig\n",
        "!ln -s /usr/local/lib/python3.7/site-packages/vapoursynth.so /usr/lib/python3.7/lib-dynload/vapoursynth.so\n",
        "!pip install vapoursynth\n",
        "\n",
        "# cupy / pycuda\n",
        "!curl https://colab.chainer.org/install | sh -\n",
        "!pip install pycuda\n",
        "\n",
        "# pytorch tensorrt\n",
        "!pip install https://github.com/NVIDIA/Torch-TensorRT/releases/download/v1.0.0/torch_tensorrt-1.0.0-cp37-cp37m-linux_x86_64.whl\n",
        "\n",
        "# onnx\n",
        "!pip install onnx onnxruntime onnxruntime-gpu\n",
        "\n",
        "# installing onnx tensorrt with a workaround, error with import otherwise\n",
        "%cd /workspace/tensorrt\n",
        "!git clone https://github.com/onnx/onnx-tensorrt\n",
        "%cd onnx-tensorrt\n",
        "!python3 setup.py install\n",
        "\n",
        "%cd /workspace\n",
        "# downloading models\n",
        "!wget https://github.com/styler00dollar/VSGAN-tensorrt-docker/releases/download/models/RealESRGANv2-animevideo-xsx2.pth\n",
        "!wget https://github.com/styler00dollar/VSGAN-tensorrt-docker/releases/download/models/RealESRGANv2-animevideo-xsx4.pth\n",
        "!wget https://github.com/styler00dollar/VSGAN-tensorrt-docker/releases/download/models/RealESRGAN_x4plus_anime_6B.pth\n",
        "# fatal anime\n",
        "!wget https://github.com/styler00dollar/VSGAN-tensorrt-docker/releases/download/models/4x_fatal_Anime_500000_G.pth\n",
        "# rvp1\n",
        "!wget https://github.com/styler00dollar/VSGAN-tensorrt-docker/releases/download/models/rvpV1_105661_G.pt\n",
        "# sepconv\n",
        "!wget https://github.com/styler00dollar/VSGAN-tensorrt-docker/releases/download/models/sepconv.pth\n",
        "# EGVSR\n",
        "!wget https://github.com/styler00dollar/VSGAN-tensorrt-docker/releases/download/models/EGVSR_iter420000.pth\n",
        "# rife4 (fixed rife4.0 model)\n",
        "!wget https://github.com/styler00dollar/VSGAN-tensorrt-docker/releases/download/models/rife40.pth\n",
        "# RealBasicVSR_x4\n",
        "!wget https://github.com/styler00dollar/VSGAN-tensorrt-docker/releases/download/models/RealBasicVSR_x4.pth\n",
        "# cugan models\n",
        "!wget https://github.com/styler00dollar/VSGAN-tensorrt-docker/releases/download/models/up2x-latest-conservative.pth\n",
        "!wget https://github.com/styler00dollar/VSGAN-tensorrt-docker/releases/download/models/up2x-latest-denoise1x.pth\n",
        "!wget https://github.com/styler00dollar/VSGAN-tensorrt-docker/releases/download/models/up2x-latest-denoise2x.pth\n",
        "!wget https://github.com/styler00dollar/VSGAN-tensorrt-docker/releases/download/models/up2x-latest-denoise3x.pth\n",
        "!wget https://github.com/styler00dollar/VSGAN-tensorrt-docker/releases/download/models/up2x-latest-no-denoise.pth\n",
        "!wget https://github.com/styler00dollar/VSGAN-tensorrt-docker/releases/download/models/up3x-latest-conservative.pth\n",
        "!wget https://github.com/styler00dollar/VSGAN-tensorrt-docker/releases/download/models/up3x-latest-denoise3x.pth\n",
        "!wget https://github.com/styler00dollar/VSGAN-tensorrt-docker/releases/download/models/up3x-latest-no-denoise.pth\n",
        "!wget https://github.com/styler00dollar/VSGAN-tensorrt-docker/releases/download/models/up4x-latest-conservative.pth\n",
        "!wget https://github.com/styler00dollar/VSGAN-tensorrt-docker/releases/download/models/up4x-latest-denoise3x.pth\n",
        "!wget https://github.com/styler00dollar/VSGAN-tensorrt-docker/releases/download/models/up4x-latest-no-denoise.pth\n",
        "# film\n",
        "!wget https://github.com/styler00dollar/VSGAN-tensorrt-docker/releases/download/models/FILM.tar.gz\n",
        "!tar -zxvf FILM.tar.gz\n",
        "\n",
        "# optional, rvp uses it to convert colorspace\n",
        "!pip install kornia\n",
        "# image read/write for image inference\n",
        "!pip install opencv-python\n",
        "\n",
        "# vs plugings from others\n",
        "# https://github.com/HolyWu/vs-swinir\n",
        "!pip install --upgrade vsswinir && python -m vsswinir\n",
        "\n",
        "# pytorch hotfix\n",
        "!pip uninstall torch -y\n",
        "!pip uninstall torch -y\n",
        "!pip3 install torch==1.10.2+cu113 torchvision==0.11.3+cu113 torchaudio==0.10.2+cu113 -f https://download.pytorch.org/whl/cu113/torch_stable.html\n",
        "\n",
        "# onnx gpu hotfix\n",
        "!pip install onnxruntime-gpu --force-reinstall -U\n",
        "\n",
        "# jpg turbo\n",
        "!sudo apt-get install -y libturbojpeg \n",
        "!pip install PyTurboJPEG\n",
        "\n",
        "# render tools\n",
        "!sudo apt install x264 -y\n",
        "\n",
        "# downgrading tensorflow due to IndexError: list index out of range \n",
        "!pip install tensorflow==2.3.1 tensorflow-gpu==2.3.1\n",
        "\n",
        "!pip install pytorch-msssim\n",
        "\n",
        "%cd /workspace/tensorrt/VSGAN-tensorrt-docker"
      ]
    },
    {
      "cell_type": "code",
      "execution_count": null,
      "metadata": {
        "cellView": "form",
        "id": "dqPcNbBww6uZ"
      },
      "outputs": [],
      "source": [
        "#@title (optional) compile mmcv (basicvsrpp/RealBasicVSR)\n",
        "#@markdown Compiling mmcv takes a while, only do this if you need it\n",
        "# https://github.com/HolyWu/vs-basicvsrpp\n",
        "!pip install --upgrade vsbasicvsrpp && python -m vsbasicvsrpp\n",
        "# dependencies for RealBasicVSR_x4\n",
        "# mmedit\n",
        "!git clone https://github.com/open-mmlab/mmediting.git && cd mmediting && pip install -v -e .\n",
        "# RealBasicVSR_x4 will download this\n",
        "!wget \"https://download.pytorch.org/models/vgg19-dcbb9e9d.pth\" -P /root/.cache/torch/hub/checkpoints/"
      ]
    },
    {
      "cell_type": "code",
      "source": [
        "#@title (optional) compile vs-mlrt\n",
        "# updating cmake\n",
        "%cd /content\n",
        "!wget https://github.com/Kitware/CMake/releases/download/v3.23.0-rc1/cmake-3.23.0-rc1-linux-x86_64.sh\n",
        "!chmod +x cmake-3.23.0-rc1-linux-x86_64.sh\n",
        "!sh cmake-3.23.0-rc1-linux-x86_64.sh --skip-license\n",
        "!cp /content/bin/cmake /usr/bin/cmake\n",
        "!cp /content/bin/cmake /usr/lib/x86_64-linux-gnu/cmake\n",
        "!cp /content/bin/cmake /usr/local/bin/cmake\n",
        "!cp -r /content/share/cmake-3.23 /usr/local/share/\n",
        "# upgrading g++\n",
        "!sudo apt install build-essential manpages-dev software-properties-common -y\n",
        "!sudo add-apt-repository ppa:ubuntu-toolchain-r/test -y\n",
        "!sudo apt update -y && sudo apt install gcc-11 g++-11 -y\n",
        "!sudo update-alternatives --install /usr/bin/gcc gcc /usr/bin/gcc-11 11\n",
        "!sudo update-alternatives --install /usr/bin/g++ g++ /usr/bin/g++-11 11\n",
        "# getting vapoursynth sourcecode\n",
        "%cd /content\n",
        "!wget https://github.com/vapoursynth/vapoursynth/archive/refs/tags/R57.zip\n",
        "!7z x R57.zip\n",
        "# compiling\n",
        "%cd /content/\n",
        "!sudo rm -rf vs-mlrt\n",
        "!git clone https://github.com/AmusementClub/vs-mlrt\n",
        "%cd vs-mlrt/vstrt\n",
        "!mkdir build\n",
        "%cd build\n",
        "!cmake .. -DVAPOURSYNTH_INCLUDE_DIRECTORY=/content/vapoursynth-R57/include\n",
        "!make\n",
        "!sudo make install\n",
        "%cd /content\n",
        "!wget https://github.com/AmusementClub/vs-mlrt/releases/download/v7/models.v7.7z\n",
        "!7z x models.v7.7z"
      ],
      "metadata": {
        "cellView": "form",
        "id": "R3b3RqdqNtgE"
      },
      "execution_count": null,
      "outputs": []
    },
    {
      "cell_type": "code",
      "source": [
        "#@title (optional) compile x265\n",
        "!sudo apt-get install -y numactl\n",
        "# updating cmake\n",
        "%cd /content\n",
        "!wget https://github.com/Kitware/CMake/releases/download/v3.23.0-rc1/cmake-3.23.0-rc1-linux-x86_64.sh\n",
        "!chmod +x cmake-3.23.0-rc1-linux-x86_64.sh\n",
        "!sh cmake-3.23.0-rc1-linux-x86_64.sh --skip-license\n",
        "!cp /content/bin/cmake /usr/bin/cmake\n",
        "!cp /content/bin/cmake /usr/lib/x86_64-linux-gnu/cmake\n",
        "!cp /content/bin/cmake /usr/local/bin/cmake\n",
        "!cp -r /content/share/cmake-3.23 /usr/local/share/\n",
        "# upgrading g++\n",
        "!sudo apt install build-essential manpages-dev software-properties-common -y\n",
        "!sudo add-apt-repository ppa:ubuntu-toolchain-r/test -y\n",
        "!sudo apt update -y && sudo apt install gcc-11 g++-11 -y\n",
        "!sudo update-alternatives --install /usr/bin/gcc gcc /usr/bin/gcc-11 11\n",
        "!sudo update-alternatives --install /usr/bin/g++ g++ /usr/bin/g++-11 11\n",
        "# compile x265\n",
        "%cd /content\n",
        "!sudo rm -rf x265\n",
        "!git clone https://github.com/AmusementClub/x265\n",
        "%cd x265/source/\n",
        "!mkdir build\n",
        "%cd build\n",
        "!cmake .. -DNATIVE_BUILD=ON -DSTATIC_LINK_CRT=ON -DENABLE_AVISYNTH=OFF\n",
        "!make \n",
        "!sudo make install\n",
        "!cp /content/x265/source/build/x265 /usr/bin/x265 \n",
        "!cp /content/x265/source/build/x265 /usr/local/bin/x265"
      ],
      "metadata": {
        "id": "MdxLpbvfnT2H",
        "cellView": "form"
      },
      "execution_count": null,
      "outputs": []
    },
    {
      "cell_type": "markdown",
      "metadata": {
        "id": "bTuK32lZyMFC"
      },
      "source": [
        "`Runtime -> Restart runtime`"
      ]
    },
    {
      "cell_type": "markdown",
      "metadata": {
        "id": "ONt5BNaLoMho"
      },
      "source": [
        "Dependencies are installed now."
      ]
    },
    {
      "cell_type": "markdown",
      "metadata": {
        "id": "ED6eNarwobuR"
      },
      "source": [
        "# Render"
      ]
    },
    {
      "cell_type": "code",
      "source": [
        "# if you want to use vs-mlrt, convert model into engine, you can find models in /content/models\n",
        "# after creating the model, you can set the path in inference.py, be aware that cugan is not working\n",
        "!/usr/src/tensorrt/bin/trtexec --fp16 --onnx=/content/models/waifu2x/upconv_7_anime_style_art_rgb/noise0_scale2.0x_model.onnx --minShapes=input:1x3x8x8 --optShapes=input:1x3x720x1280 --maxShapes=input:1x3x1080x1920 --saveEngine=/content/test.engine --tacticSources=+CUDNN,-CUBLAS,-CUBLAS_LT"
      ],
      "metadata": {
        "id": "jSQxoSnXOJq0"
      },
      "execution_count": null,
      "outputs": []
    },
    {
      "cell_type": "code",
      "execution_count": null,
      "metadata": {
        "cellView": "form",
        "id": "2jdfZgcfnsky"
      },
      "outputs": [],
      "source": [
        "#@title inference.py\n",
        "%%writefile /workspace/tensorrt/VSGAN-tensorrt-docker/inference.py\n",
        "import sys\n",
        "sys.path.append('/workspace/tensorrt/VSGAN-tensorrt-docker/')\n",
        "import vapoursynth as vs\n",
        "from src.esrgan import ESRGAN_inference # esrgan and realesrgan\n",
        "from src.SRVGGNetCompact import SRVGGNetCompactRealESRGAN # realesrgan anime video\n",
        "from src.vfi_model import video_model # any vfi model, in this case rvp1 as demonstration\n",
        "from src.sepconv_enhanced import sepconv_model # uses cupy, no tensorrt\n",
        "from src.rife import RIFE # tensorrt not possible\n",
        "from vsswinir import SwinIR # https://github.com/HolyWu/vs-swinir # currently not tensorrt, didn't try\n",
        "from src.egvsr import egvsr_model # currently not tensorrt\n",
        "from src.cugan import cugan_inference\n",
        "#from vsbasicvsrpp import BasicVSRPP\n",
        "#from src.realbasicvsr import realbasicvsr_model\n",
        "from src.film import FILM_inference\n",
        "\n",
        "core = vs.core\n",
        "vs_api_below4 = vs.__api_version__.api_major < 4\n",
        "core = vs.core\n",
        "core.num_threads = 16 # can influence ram usage\n",
        "# only needed if you are inside docker\n",
        "core.std.LoadPlugin(path='/usr/lib/x86_64-linux-gnu/libffms2.so')\n",
        "core.std.LoadPlugin(path='/usr/local/lib/libvstrt.so')\n",
        "\n",
        "# cfr video\n",
        "clip = core.ffms2.Source(source='1080.mkv')\n",
        "# vfr video (untested)\n",
        "#clip = core.ffms2.Source(source='input.mkv', fpsnum = 24000, fpsden = 1001)\n",
        "###############################################\n",
        "# COLORSPACE\n",
        "###############################################\n",
        "# convert colorspace\n",
        "clip = vs.core.resize.Bicubic(clip, format=vs.RGBS, matrix_in_s='709')\n",
        "# convert colorspace + resizing\n",
        "#clip = vs.core.resize.Bicubic(clip, width=848, height=480, format=vs.RGBS, matrix_in_s='709')\n",
        "\n",
        "###############################################\n",
        "\n",
        "# these demos work out of the box because docker also downloads the needed models, if you want other models, just add them\n",
        "# you can combine everything however you want\n",
        "\n",
        "###############################################\n",
        "# MODELS (CUDA)\n",
        "###############################################\n",
        "# sepconv\n",
        "#clip = sepconv_model(clip)\n",
        "# RIFE4\n",
        "#clip = RIFE(clip, multi = 2, scale = 1.0, fp16 = True, fastmode = False, ensemble = True, psnr_dedup = False, psnr_value = 70, ssim_dedup = True, ms_ssim_dedup = False, ssim_value = 0.999)\n",
        "# VFI example for jit models\n",
        "#clip = video_model(clip, fp16=False, model_path=\"/workspace/rvpV1_105661_G.pt\")\n",
        "# SwinIR\n",
        "#clip = SwinIR(clip, task=\"lightweight_sr\", scale=2)\n",
        "# ESRGAN / RealESRGAN\n",
        "#clip = ESRGAN_inference(clip=clip, model_path=\"/workspace/4x_fatal_Anime_500000_G.pth\", tile_x=400, tile_y=400, tile_pad=10, fp16=False)\n",
        "#clip = ESRGAN_inference(clip=clip, model_path=\"/workspace/RealESRGAN_x4plus_anime_6B.pth\", tile_x=480, tile_y=480, tile_pad=16, fp16=False)\n",
        "# RealESRGAN Anime Video example\n",
        "# backends: tensorrt, cuda, onnx, quantized_onnx\n",
        "#clip = SRVGGNetCompactRealESRGAN(clip, scale=2, fp16=True, backend_inference = \"tensorrt\")\n",
        "# EGVSR\n",
        "#clip = egvsr_model(clip, interval=15)\n",
        "# BasicVSR++\n",
        "# 0 = REDS, 1 = Vimeo-90K (BI), 2 = Vimeo-90K (BD), 3 = NTIRE 2021 - Track 1, 4 = NTIRE 2021 - Track 2, 5 = NTIRE 2021 - Track 3\n",
        "#clip = BasicVSRPP(clip, model = 1, interval = 30, tile_x = 0, tile_y = 0, tile_pad = 16, device_type = 'cuda', device_index = 0, fp16 = False, cpu_cache = False)\n",
        "# RealBasicVSR\n",
        "#clip = realbasicvsr_model(clip, interval=15, fp16=True)\n",
        "# cugan\n",
        "# scales: 2 | 3 | 4, kind_model: no_denoise | denoise3x | conservative, backend_inference: cuda | onnx\n",
        "# only cuda supports tiling\n",
        "clip = cugan_inference(clip, fp16 = True, scale = 2, kind_model = \"no_denoise\", backend_inference = \"cuda\", tile_x=512, tile_y=512, tile_pad=10, pre_pad=0)\n",
        "# FILM\n",
        "# models: l1 | vgg | style\n",
        "#clip = FILM_inference(clip, model_choise = \"vgg\")\n",
        "# vs-mlrt\n",
        "#clip = core.trt.Model(clip, engine_path=\"/content/test.engine\", tilesize=[1280, 720], num_streams=15)\n",
        "\n",
        "###############################################\n",
        "# [NOT IN DOCKER] MODELS (NCNN)\n",
        "# Only recommended for AMD GPUS, further instructions in README\n",
        "###############################################\n",
        "#from src.SRVGGNetCompact_ncnn import SRVGGNetCompactRealESRGAN_ncnn\n",
        "\n",
        "# Rife ncnn\n",
        "# 0 = rife-v3.1, 1 = rife-v3.0, 2 = rife-v2.4, 3 = rife-v2, 4 = rife-anime\n",
        "#clip = core.rife.RIFE(clip, model=0, gpu_id=0, gpu_thread=2, tta=False, uhd=False, sc=False, list_gpu=False)\n",
        "# RealESRGAN example\n",
        "#clip = SRVGGNetCompactRealESRGAN_ncnn(clip, gpuid=0, model=\"models-DF2K\", tta_mode=False, scale = 2, tilesize=0, param_path = None, bin_path = None)\n",
        "# Waifu2x\n",
        "# 0 = upconv_7_anime_style_art_rgb, 1 = upconv_7_photo, 2 = cunet (For 2D artwork. Slow, but better quality.)\n",
        "#clip = core.w2xnvk.Waifu2x(clip, noise=0, scale=2, model=0, tile_size=0, gpu_id=0, gpu_thread=0, precision=16)\n",
        "\n",
        "###############################################\n",
        "# Deduplicated inference for faster inference\n",
        "# only use this for upscaling\n",
        "###############################################\n",
        "#from src.dedup import return_frames\n",
        "#frames_duplicated, frames_duplicating = return_frames(video_path, psnr_value=60)\n",
        "#clip = core.std.DeleteFrames(clip, frames_duplicated)\n",
        "# do upscaling here\n",
        "#clip = core.std.DuplicateFrames(clip, frames_duplicating)\n",
        "###############################################\n",
        "# OUTPUT\n",
        "###############################################\n",
        "clip = vs.core.resize.Bicubic(clip, format=vs.YUV420P8, matrix_s=\"709\")\n",
        "clip.set_output()"
      ]
    },
    {
      "cell_type": "code",
      "execution_count": null,
      "metadata": {
        "id": "QOker8lwgE2r"
      },
      "outputs": [],
      "source": [
        "%cd /workspace/tensorrt/VSGAN-tensorrt-docker/\n",
        "!sudo rm -rf /workspace/tensorrt/VSGAN-tensorrt-docker/example.mkv\n",
        "!vspipe -c y4m inference.py - | ffmpeg -i pipe: /workspace/tensorrt/VSGAN-tensorrt-docker/example.mkv"
      ]
    },
    {
      "cell_type": "code",
      "execution_count": null,
      "metadata": {
        "id": "FBc_O05UnJ_5"
      },
      "outputs": [],
      "source": [
        "%cd /workspace/tensorrt/VSGAN-tensorrt-docker/\n",
        "!sudo rm -rf /workspace/tensorrt/VSGAN-tensorrt-docker/example.mkv\n",
        "!vspipe -c y4m inference.py - | x264 - --demuxer y4m -o /workspace/tensorrt/VSGAN-tensorrt-docker/example.mkv"
      ]
    },
    {
      "cell_type": "code",
      "source": [
        "%cd /workspace/tensorrt/VSGAN-tensorrt-docker/\n",
        "!sudo rm -rf /workspace/tensorrt/VSGAN-tensorrt-docker/example.mkv\n",
        "!vspipe -c y4m inference.py - | x265 - --y4m --crf 23 -o /workspace/tensorrt/VSGAN-tensorrt-docker/example.mkv"
      ],
      "metadata": {
        "id": "CY058j71oaNY"
      },
      "execution_count": null,
      "outputs": []
    }
  ],
  "metadata": {
    "accelerator": "GPU",
    "colab": {
      "collapsed_sections": [],
      "name": "Colab-VSGAN.ipynb",
      "private_outputs": true,
      "provenance": [],
      "machine_shape": "hm",
      "background_execution": "on"
    },
    "kernelspec": {
      "display_name": "Python 3",
      "name": "python3"
    },
    "language_info": {
      "name": "python"
    }
  },
  "nbformat": 4,
  "nbformat_minor": 0
}
