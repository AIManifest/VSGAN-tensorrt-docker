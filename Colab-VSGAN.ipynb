{
  "cells": [
    {
      "cell_type": "markdown",
      "metadata": {
        "id": "hpqbFInxrYdL"
      },
      "source": [
        "# Colab-VSGAN\n",
        "\n",
        "My repo: [styler00dollar/VSGAN-tensorrt-docker](https://github.com/styler00dollar/VSGAN-tensorrt-docker/)"
      ]
    },
    {
      "cell_type": "code",
      "execution_count": null,
      "metadata": {
        "id": "dfWp19tKePiR"
      },
      "outputs": [],
      "source": [
        "!nvidia-smi"
      ]
    },
    {
      "cell_type": "code",
      "execution_count": null,
      "metadata": {
        "id": "50YNOoUCgcbM"
      },
      "outputs": [],
      "source": [
        "!nvcc --version"
      ]
    },
    {
      "cell_type": "code",
      "execution_count": null,
      "metadata": {
        "id": "hjfnge1eeR4C"
      },
      "outputs": [],
      "source": [
        "# check python version, for me its currently 3.7.12\n",
        "!python --version"
      ]
    },
    {
      "cell_type": "code",
      "execution_count": null,
      "metadata": {
        "cellView": "form",
        "id": "4LVR-piSdQRT"
      },
      "outputs": [],
      "source": [
        "#@title Mount Google Drive\n",
        "from google.colab import drive\n",
        "drive.mount('/content/drive',force_remount=True)"
      ]
    },
    {
      "cell_type": "code",
      "source": [
        "#@title Install TensorRT 8.4.x\n",
        "#@markdown Warning: 8.4 is currently not compatible with `Torch-TensorRT`! Use `vs-mlrt` instead, which is faster anyway and you don't need an account like the other install process.\n",
        "%cd /content\n",
        "!sudo apt-get update\n",
        "!sudo apt-get install libnvinfer8 libnvonnxparsers8 libnvparsers8 libnvinfer-plugin8 libnvinfer-dev libnvonnxparsers-dev libnvparsers-dev libnvinfer-plugin-dev python3-libnvinfer tensorrt python3-libnvinfer-dev"
      ],
      "metadata": {
        "id": "8QneOIbHW9TK",
        "cellView": "form"
      },
      "execution_count": null,
      "outputs": []
    },
    {
      "cell_type": "code",
      "source": [
        "#@title (Not recommended) Install TensorRT 8.2.x\n",
        "#@markdown If you really really want `Torch-TensorRT` instead of `vs-mlrt`, then do the following:\n",
        "\n",
        "#@markdown You need to get 2 files.\n",
        "#@markdown `nv-tensorrt-repo-ubuntu1804-cuda11.4-trt8.2.3.0-ga-20220113_1-1_amd64.deb` from\n",
        "#@markdown `(TensorRT 8.2 GA Update 2 for Ubuntu 18.04 and CUDA 11.0, 11.1, 11.2, 11.3, 11.4 and 11.5 DEB local repo Package)`\n",
        "#@markdown and `TensorRT-8.2.3.0.Linux.x86_64-gnu.cuda-11.4.cudnn8.2.tar.gz/python/tensorrt-8.2.3.0-cp37-none-linux_x86_64.whl`\n",
        "#@markdown from `(TensorRT 8.2 GA Update 2 for Linux x86_64 and CUDA 11.0, 11.1, 11.2, 11.3, 11.4 and 11.5 TAR Package)`\n",
        "#@markdown  You can download these files [here](https://developer.nvidia.com/nvidia-tensorrt-download). Warning: You need an account (which can be created for free). \n",
        "#@markdown Put them into `gdrive/TensorRT`.\n",
        "\n",
        "import os\n",
        "os.environ[\"os1\"]=\"ubuntu1804\"\n",
        "os.environ[\"tag\"]= \"cuda11.4-trt8.2.3.0-ga-20220113\" #@param\n",
        "os.environ[\"version\"]= \"8.2.3-1+cuda11.4\" #@param\n",
        "data_path = '/content/drive/MyDrive/TensorRT/' #@param\n",
        "os.chdir(data_path)\n",
        "!sudo dpkg -i nv-tensorrt-repo-${os1}-${tag}_1-1_amd64.deb\n",
        "!sudo apt-key add /var/nv-tensorrt-repo-${tag}/7fa2af80.pub\n",
        "!sudo apt-get update\n",
        "!sudo apt-get install libnvinfer8=${version} libnvonnxparsers8=${version} libnvparsers8=${version} libnvinfer-plugin8=${version} libnvinfer-dev=${version} libnvonnxparsers-dev=${version} libnvparsers-dev=${version} libnvinfer-plugin-dev=${version} python3-libnvinfer=${version}\n",
        "!sudo apt-mark hold libnvinfer8 libnvonnxparsers8 libnvparsers8 libnvinfer-plugin8 libnvinfer-dev libnvonnxparsers-dev libnvparsers-dev libnvinfer-plugin-dev python3-libnvinfer\n",
        "!sudo apt-get install tensorrt=8.2.3.0-1+cuda11.4\n",
        "!sudo apt-get install python3-libnvinfer-dev=${version}\n",
        "\n",
        "# install the whl with the matching python version\n",
        "whl_path = \"/content/drive/MyDrive/TensorRT/tensorrt-8.2.3.0-cp37-none-linux_x86_64.whl\" #@param\n",
        "!pip install {whl_path}"
      ],
      "metadata": {
        "cellView": "form",
        "id": "YCHUvLzDLskk"
      },
      "execution_count": null,
      "outputs": []
    },
    {
      "cell_type": "code",
      "source": [
        "#@title initial setup\n",
        "%cd /content/\n",
        "!sudo rm -rf /workspace\n",
        "!mkdir -p /workspace/tensorrt\n",
        "%cd /workspace/tensorrt\n",
        "!git clone https://github.com/styler00dollar/VSGAN-tensorrt-docker\n",
        "\n",
        "!pip install kornia opencv-python pytorch-msssim"
      ],
      "metadata": {
        "cellView": "form",
        "id": "sOBWyltT6JUY"
      },
      "execution_count": null,
      "outputs": []
    },
    {
      "cell_type": "code",
      "source": [
        "#@title compile vs\n",
        "# installing vapoursynth related stuff\n",
        "!apt install ffmpeg autoconf libtool yasm python3.9 python3.9-venv python3.9-dev ffmsindex libffms2-4 libffms2-dev -y\n",
        "!apt --fix-broken install\n",
        "# zimg\n",
        "!wget https://github.com/sekrit-twc/zimg/archive/refs/tags/release-3.0.4.zip && 7z x release-3.0.4.zip\n",
        "%cd zimg-release-3.0.4\n",
        "!./autogen.sh && ./configure && make -j4 && make install\n",
        "# vapoursynth\n",
        "!pip install Cython -U --force-reinstall\n",
        "!wget https://github.com/vapoursynth/vapoursynth/archive/refs/tags/R59.zip -P /workspace/tensorrt\n",
        "%cd /workspace/tensorrt/\n",
        "!7z x /workspace/tensorrt/R59.zip\n",
        "%cd /workspace/tensorrt/vapoursynth-R59\n",
        "!./autogen.sh && ./configure && make && make install && cd .. && ldconfig\n",
        "!ln -s /usr/local/lib/python3.7/site-packages/vapoursynth.so /usr/lib/python3.7/lib-dynload/vapoursynth.so\n",
        "!pip install vapoursynth"
      ],
      "metadata": {
        "cellView": "form",
        "id": "k0ShahTu5Xhl"
      },
      "execution_count": null,
      "outputs": []
    },
    {
      "cell_type": "code",
      "source": [
        "#@title download vs\n",
        "%cd /content\n",
        "!apt install ffmpeg autoconf libtool yasm python3.9 python3.9-venv python3.9-dev ffmsindex libffms2-4 libffms2-dev -y\n",
        "!apt --fix-broken install\n",
        "!wget https://github.com/styler00dollar/VSGAN-tensorrt-docker/releases/download/models/vs_stuff.7z\n",
        "!7z x vs_stuff.7z\n",
        "%cd /content/vs_stuff\n",
        "!sudo cp /content/vs_stuff/vspipe /usr/local/bin/vspipe\n",
        "!sudo cp /content/vs_stuff/libzimg.so /usr/local/lib/libzimg.so\n",
        "!sudo cp /content/vs_stuff/libvapoursynth.so /usr/local/lib/libvapoursynth.so\n",
        "!sudo cp /content/vs_stuff/libvapoursynth-script.so /usr/local/lib/libvapoursynth-script.so\n",
        "!pip install vapoursynth"
      ],
      "metadata": {
        "cellView": "form",
        "id": "CoISQpX35cfE"
      },
      "execution_count": null,
      "outputs": []
    },
    {
      "cell_type": "markdown",
      "source": [
        "Optional stuff, which you may or may not need:"
      ],
      "metadata": {
        "id": "PMKQ9b2N7ebW"
      }
    },
    {
      "cell_type": "code",
      "source": [
        "#@title install cupy / pycuda\n",
        "!curl https://colab.chainer.org/install | sh -\n",
        "!pip install pycuda"
      ],
      "metadata": {
        "cellView": "form",
        "id": "4jV5zwP15-1A"
      },
      "execution_count": null,
      "outputs": []
    },
    {
      "cell_type": "code",
      "source": [
        "#@title install torch trt (TensorRT8.2 only)\n",
        "# pytorch tensorrt\n",
        "!pip install https://github.com/pytorch/TensorRT/releases/download/v1.1.0/torch_tensorrt-1.1.0-cp37-cp37m-linux_x86_64.whl"
      ],
      "metadata": {
        "cellView": "form",
        "id": "VFuIsOxq6BcN"
      },
      "execution_count": null,
      "outputs": []
    },
    {
      "cell_type": "code",
      "source": [
        "#@title install onnx\n",
        "!pip install onnx onnxruntime onnxruntime-gpu"
      ],
      "metadata": {
        "cellView": "form",
        "id": "CHstsMhB6DrM"
      },
      "execution_count": null,
      "outputs": []
    },
    {
      "cell_type": "code",
      "source": [
        "#@title install onnx trt\n",
        "# installing onnx tensorrt with a workaround, error with import otherwise\n",
        "%cd /workspace/tensorrt\n",
        "!git clone https://github.com/onnx/onnx-tensorrt\n",
        "%cd onnx-tensorrt\n",
        "!python3 setup.py install"
      ],
      "metadata": {
        "cellView": "form",
        "id": "2j4UsWPo6FP9"
      },
      "execution_count": null,
      "outputs": []
    },
    {
      "cell_type": "code",
      "source": [
        "#@title install swinir\n",
        "# vs plugings from others\n",
        "# https://github.com/HolyWu/vs-swinir\n",
        "!pip install --upgrade vsswinir && python -m vsswinir"
      ],
      "metadata": {
        "cellView": "form",
        "id": "FADjGboe6L3I"
      },
      "execution_count": null,
      "outputs": []
    },
    {
      "cell_type": "code",
      "source": [
        "#@title compile mmcv + install vsbasicvsrpp (basicvsrpp/RealBasicVSR)\n",
        "# https://github.com/HolyWu/vs-basicvsrpp\n",
        "!pip install --upgrade vsbasicvsrpp && python -m vsbasicvsrpp\n",
        "# dependencies for RealBasicVSR_x4\n",
        "# mmedit\n",
        "!git clone https://github.com/open-mmlab/mmediting.git && cd mmediting && pip install -v -e .\n",
        "# RealBasicVSR_x4 will download this\n",
        "!wget \"https://download.pytorch.org/models/vgg19-dcbb9e9d.pth\" -P /root/.cache/torch/hub/checkpoints/"
      ],
      "metadata": {
        "cellView": "form",
        "id": "5FsVoy_R_2B-"
      },
      "execution_count": null,
      "outputs": []
    },
    {
      "cell_type": "code",
      "source": [
        "#@title download models\n",
        "%cd /workspace\n",
        "# downloading models\n",
        "!wget https://github.com/styler00dollar/VSGAN-tensorrt-docker/releases/download/models/RealESRGANv2-animevideo-xsx2.pth\n",
        "!wget https://github.com/styler00dollar/VSGAN-tensorrt-docker/releases/download/models/RealESRGANv2-animevideo-xsx4.pth\n",
        "!wget https://github.com/styler00dollar/VSGAN-tensorrt-docker/releases/download/models/RealESRGAN_x4plus_anime_6B.pth\n",
        "# fatal anime\n",
        "!wget https://github.com/styler00dollar/VSGAN-tensorrt-docker/releases/download/models/4x_fatal_Anime_500000_G.pth\n",
        "# rvp1\n",
        "!wget https://github.com/styler00dollar/VSGAN-tensorrt-docker/releases/download/models/rvpV1_105661_G.pt\n",
        "# sepconv\n",
        "!wget https://github.com/styler00dollar/VSGAN-tensorrt-docker/releases/download/models/sepconv.pth\n",
        "# EGVSR\n",
        "!wget https://github.com/styler00dollar/VSGAN-tensorrt-docker/releases/download/models/EGVSR_iter420000.pth\n",
        "# rife4 (fixed rife4.0 model)\n",
        "!wget https://github.com/styler00dollar/VSGAN-tensorrt-docker/releases/download/models/rife40.pth\n",
        "!wget https://github.com/styler00dollar/VSGAN-tensorrt-docker/releases/download/models/rife41.pth\n",
        "!wget https://github.com/styler00dollar/VSGAN-tensorrt-docker/releases/download/models/rife42.pth\n",
        "!wget https://github.com/styler00dollar/VSGAN-tensorrt-docker/releases/download/models/rife43.pth\n",
        "!wget https://github.com/styler00dollar/VSGAN-tensorrt-docker/releases/download/models/sudo_rife4_269.662_testV1_scale1.pth\n",
        "# RealBasicVSR_x4\n",
        "!wget https://github.com/styler00dollar/VSGAN-tensorrt-docker/releases/download/models/RealBasicVSR_x4.pth\n",
        "# cugan models\n",
        "!wget https://github.com/styler00dollar/VSGAN-tensorrt-docker/releases/download/models/cugan_up2x-latest-conservative.pth\n",
        "!wget https://github.com/styler00dollar/VSGAN-tensorrt-docker/releases/download/models/cugan_up2x-latest-denoise1x.pth\n",
        "!wget https://github.com/styler00dollar/VSGAN-tensorrt-docker/releases/download/models/cugan_up2x-latest-denoise2x.pth\n",
        "!wget https://github.com/styler00dollar/VSGAN-tensorrt-docker/releases/download/models/cugan_up2x-latest-denoise3x.pth\n",
        "!wget https://github.com/styler00dollar/VSGAN-tensorrt-docker/releases/download/models/cugan_up2x-latest-no-denoise.pth\n",
        "!wget https://github.com/styler00dollar/VSGAN-tensorrt-docker/releases/download/models/cugan_up3x-latest-conservative.pth\n",
        "!wget https://github.com/styler00dollar/VSGAN-tensorrt-docker/releases/download/models/cugan_up3x-latest-denoise3x.pth\n",
        "!wget https://github.com/styler00dollar/VSGAN-tensorrt-docker/releases/download/models/cugan_up3x-latest-no-denoise.pth\n",
        "!wget https://github.com/styler00dollar/VSGAN-tensorrt-docker/releases/download/models/cugan_up4x-latest-conservative.pth\n",
        "!wget https://github.com/styler00dollar/VSGAN-tensorrt-docker/releases/download/models/cugan_up4x-latest-denoise3x.pth\n",
        "!wget https://github.com/styler00dollar/VSGAN-tensorrt-docker/releases/download/models/cugan_up4x-latest-no-denoise.pth\n",
        "\n",
        "!wget https://github.com/styler00dollar/VSGAN-tensorrt-docker/releases/download/models/cugan_pro-conservative-up2x.pth\n",
        "!wget https://github.com/styler00dollar/VSGAN-tensorrt-docker/releases/download/models/cugan_pro-conservative-up3x.pth\n",
        "!wget https://github.com/styler00dollar/VSGAN-tensorrt-docker/releases/download/models/cugan_pro-denoise3x-up2x.pth\n",
        "!wget https://github.com/styler00dollar/VSGAN-tensorrt-docker/releases/download/models/cugan_pro-denoise3x-up3x.pth\n",
        "!wget https://github.com/styler00dollar/VSGAN-tensorrt-docker/releases/download/models/cugan_pro-no-denoise3x-up2x.pth\n",
        "!wget https://github.com/styler00dollar/VSGAN-tensorrt-docker/releases/download/models/cugan_pro-no-denoise3x-up3x.pth\n",
        "# IFRNet\n",
        "!wget https://github.com/styler00dollar/VSGAN-tensorrt-docker/releases/download/models/IFRNet_S_Vimeo90K.pth\n",
        "!wget https://github.com/styler00dollar/VSGAN-tensorrt-docker/releases/download/models/IFRNet_L_Vimeo90K.pth\n",
        "# film\n",
        "!wget https://github.com/styler00dollar/VSGAN-tensorrt-docker/releases/download/models/FILM.tar.gz\n",
        "!tar -zxvf FILM.tar.gz"
      ],
      "metadata": {
        "cellView": "form",
        "id": "ru886fhl6H0i"
      },
      "execution_count": null,
      "outputs": []
    },
    {
      "cell_type": "markdown",
      "source": [
        "Vulkan related:"
      ],
      "metadata": {
        "id": "tuSs44vL8BW1"
      }
    },
    {
      "cell_type": "code",
      "source": [
        "#@title install vulkan\n",
        "!sudo apt-get install -y libvulkan-dev nasm\n",
        "!pip install meson ninja\n",
        "# upgrading g++\n",
        "!sudo apt install build-essential manpages-dev software-properties-common -y\n",
        "!sudo add-apt-repository ppa:ubuntu-toolchain-r/test -y\n",
        "!sudo apt update -y && sudo apt install gcc-11 g++-11 -y\n",
        "!sudo update-alternatives --install /usr/bin/gcc gcc /usr/bin/gcc-11 11\n",
        "!sudo update-alternatives --install /usr/bin/g++ g++ /usr/bin/g++-11 11"
      ],
      "metadata": {
        "cellView": "form",
        "id": "bEj3zNnb6Q28"
      },
      "execution_count": null,
      "outputs": []
    },
    {
      "cell_type": "code",
      "source": [
        "#@title compile rife ncnn (needs compiled vs)\n",
        "%cd /content/\n",
        "!rm -rf vmaf-2.3.1\n",
        "!wget https://github.com/Netflix/vmaf/archive/refs/tags/v2.3.1.tar.gz\n",
        "# VMAF\n",
        "!tar -xzf  v2.3.1.tar.gz\n",
        "%cd vmaf-2.3.1/libvmaf/\n",
        "!CC=/usr/bin/gcc-11 CXX=/usr/bin/g++-11 meson build --buildtype release\n",
        "!CC=/usr/bin/gcc-11 CXX=/usr/bin/g++-11 ninja -C build && ninja -C build install\n",
        "\n",
        "%cd /content\n",
        "!rm -rf VapourSynth-VMAF\n",
        "!git clone https://github.com/HomeOfVapourSynthEvolution/VapourSynth-VMAF\n",
        "%cd VapourSynth-VMAF\n",
        "!CC=/usr/bin/gcc-11 CXX=/usr/bin/g++-11 meson build\n",
        "!CC=/usr/bin/gcc-11 CXX=/usr/bin/g++-11 ninja -C build && ninja -C build install\n",
        "\n",
        "# MISC\n",
        "%cd /content\n",
        "!rm -rf vs-miscfilters-obsolete\n",
        "!git clone https://github.com/vapoursynth/vs-miscfilters-obsolete\n",
        "%cd vs-miscfilters-obsolete\n",
        "!CC=/usr/bin/gcc-11 CXX=/usr/bin/g++-11 meson build\n",
        "!CC=/usr/bin/gcc-11 CXX=/usr/bin/g++-11 ninja -C build && ninja -C build install\n",
        "    \n",
        "# RIFE\n",
        "%cd /content\n",
        "!rm -rf VapourSynth-RIFE-ncnn-Vulkan\n",
        "!git clone https://github.com/styler00dollar/VapourSynth-RIFE-ncnn-Vulkan\n",
        "%cd VapourSynth-RIFE-ncnn-Vulkan\n",
        "!git submodule update --init --recursive --depth 1\n",
        "!CC=/usr/bin/gcc-11 CXX=/usr/bin/g++-11 meson build -Dbuildtype=debug -Db_lto=false\n",
        "!CC=/usr/bin/gcc-11 CXX=/usr/bin/g++-11 ninja -C build && ninja -C build install"
      ],
      "metadata": {
        "cellView": "form",
        "id": "NiXni12z6SBK"
      },
      "execution_count": null,
      "outputs": []
    },
    {
      "cell_type": "code",
      "source": [
        "#@title download compiled rife ncnn\n",
        "%cd /content\n",
        "\n",
        "!git clone https://github.com/styler00dollar/VapourSynth-RIFE-ncnn-Vulkan\n",
        "!mkdir -p /usr/local/lib/vapoursynth/models/\n",
        "!sudo cp -r /content/VapourSynth-RIFE-ncnn-Vulkan/models /usr/local/lib/vapoursynth/\n",
        "\n",
        "%cd /content\n",
        "!wget https://github.com/styler00dollar/VSGAN-tensorrt-docker/releases/download/models/compiled_rife_ncnn.7z\n",
        "!7z x compiled_rife_ncnn.7z\n",
        "\n",
        "!mkdir -p /usr/local/lib/x86_64-linux-gnu/\n",
        "!cp /content/compiled_rife_ncnn/libvmaf.so /usr/local/lib/vapoursynth/libvmaf.so\n",
        "!cp /content/compiled_rife_ncnn/libmiscfilters.so /usr/local/lib/vapoursynth/libmiscfilters.so \n",
        "!cp /content/compiled_rife_ncnn/librife.so /usr/local/lib/vapoursynth/librife.so \n",
        "!cp /content/compiled_rife_ncnn/vmaf-2.3.1/libvmaf.so /usr/local/lib/x86_64-linux-gnu/libvmaf.so\n",
        "!cp /content/compiled_rife_ncnn/vmaf-2.3.1/libvmaf.so.1 /usr/local/lib/x86_64-linux-gnu/libvmaf.so.1\n",
        "!cp /content/compiled_rife_ncnn/vmaf-2.3.1/libvmaf.so.1.1.3 /usr/local/lib/x86_64-linux-gnu/libvmaf.so.1.1.3\n",
        "!cp /content/compiled_rife_ncnn/vmaf-2.3.1/libvmaf.a /usr/local/lib/x86_64-linux-gnu/libvmaf.a\n",
        "!sudo ldconfig"
      ],
      "metadata": {
        "id": "kKm2A0eYDdyz",
        "cellView": "form"
      },
      "execution_count": null,
      "outputs": []
    },
    {
      "cell_type": "code",
      "source": [
        "#@title compile vs-mlrt\n",
        "# updating cmake\n",
        "%cd /content\n",
        "!wget https://github.com/Kitware/CMake/releases/download/v3.24.0-rc1/cmake-3.24.0-rc1-linux-x86_64.sh\n",
        "!chmod +x cmake-3.24.0-rc1-linux-x86_64.sh\n",
        "!sh cmake-3.24.0-rc1-linux-x86_64.sh --skip-license\n",
        "!cp /content/bin/cmake /usr/bin/cmake\n",
        "!cp /content/bin/cmake /usr/lib/x86_64-linux-gnu/cmake\n",
        "!cp /content/bin/cmake /usr/local/bin/cmake\n",
        "!cp -r /content/share/cmake-3.24 /usr/local/share/\n",
        "# upgrading g++\n",
        "!sudo apt install build-essential manpages-dev software-properties-common -y\n",
        "!sudo add-apt-repository ppa:ubuntu-toolchain-r/test -y\n",
        "!sudo apt update -y && sudo apt install gcc-11 g++-11 -y\n",
        "!sudo update-alternatives --install /usr/bin/gcc gcc /usr/bin/gcc-11 11\n",
        "!sudo update-alternatives --install /usr/bin/g++ g++ /usr/bin/g++-11 11\n",
        "# getting vapoursynth sourcecode\n",
        "%cd /content\n",
        "!wget https://github.com/vapoursynth/vapoursynth/archive/refs/tags/R59.zip\n",
        "!7z x R59.zip\n",
        "# compiling\n",
        "%cd /content/\n",
        "!sudo rm -rf vs-mlrt\n",
        "!git clone https://github.com/AmusementClub/vs-mlrt\n",
        "%cd vs-mlrt/vstrt\n",
        "!mkdir build\n",
        "%cd build\n",
        "!CC=/usr/bin/gcc-11 CXX=/usr/bin/g++-11 cmake .. -DVAPOURSYNTH_INCLUDE_DIRECTORY=/content/vapoursynth-R59/include\n",
        "!make\n",
        "!sudo make install\n",
        "%cd /content\n",
        "#!wget https://github.com/AmusementClub/vs-mlrt/releases/download/v7/models.v7.7z\n",
        "#!7z x models.v7.7z"
      ],
      "metadata": {
        "cellView": "form",
        "id": "FIjnFDGP7maV"
      },
      "execution_count": null,
      "outputs": []
    },
    {
      "cell_type": "markdown",
      "source": [
        "Rendering related:"
      ],
      "metadata": {
        "id": "LYOLNSQP8EUb"
      }
    },
    {
      "cell_type": "code",
      "source": [
        "#@title install x264\n",
        "# render tools\n",
        "!sudo apt install x264 -y"
      ],
      "metadata": {
        "cellView": "form",
        "id": "yK6leYum6NzX"
      },
      "execution_count": null,
      "outputs": []
    },
    {
      "cell_type": "code",
      "source": [
        "#@title compile x265\n",
        "!sudo apt-get install -y numactl\n",
        "# updating cmake\n",
        "%cd /content\n",
        "!wget https://github.com/Kitware/CMake/releases/download/v3.23.0-rc1/cmake-3.23.0-rc1-linux-x86_64.sh\n",
        "!chmod +x cmake-3.23.0-rc1-linux-x86_64.sh\n",
        "!sh cmake-3.23.0-rc1-linux-x86_64.sh --skip-license\n",
        "!cp /content/bin/cmake /usr/bin/cmake\n",
        "!cp /content/bin/cmake /usr/lib/x86_64-linux-gnu/cmake\n",
        "!cp /content/bin/cmake /usr/local/bin/cmake\n",
        "!cp -r /content/share/cmake-3.23 /usr/local/share/\n",
        "# upgrading g++\n",
        "!sudo apt install build-essential manpages-dev software-properties-common -y\n",
        "!sudo add-apt-repository ppa:ubuntu-toolchain-r/test -y\n",
        "!sudo apt update -y && sudo apt install gcc-11 g++-11 -y\n",
        "!sudo update-alternatives --install /usr/bin/gcc gcc /usr/bin/gcc-11 11\n",
        "!sudo update-alternatives --install /usr/bin/g++ g++ /usr/bin/g++-11 11\n",
        "# compile x265\n",
        "%cd /content\n",
        "!sudo rm -rf x265\n",
        "!git clone https://github.com/AmusementClub/x265\n",
        "%cd x265/source/\n",
        "!mkdir build\n",
        "%cd build\n",
        "!cmake .. -DNATIVE_BUILD=ON -DSTATIC_LINK_CRT=ON -DENABLE_AVISYNTH=OFF\n",
        "!make \n",
        "!sudo make install\n",
        "!cp /content/x265/source/build/x265 /usr/bin/x265 \n",
        "!cp /content/x265/source/build/x265 /usr/local/bin/x265"
      ],
      "metadata": {
        "cellView": "form",
        "id": "2PCAkLF57rM2"
      },
      "execution_count": null,
      "outputs": []
    },
    {
      "cell_type": "markdown",
      "metadata": {
        "id": "bTuK32lZyMFC"
      },
      "source": [
        "`Runtime -> Restart runtime`"
      ]
    },
    {
      "cell_type": "markdown",
      "metadata": {
        "id": "ED6eNarwobuR"
      },
      "source": [
        "# Render"
      ]
    },
    {
      "cell_type": "code",
      "source": [
        "# if you want to use vs-mlrt, convert model into engine, you can find models in /content/models\n",
        "# after creating the model, you can set the path in inference.py\n",
        "%cd /content\n",
        "!/usr/src/tensorrt/bin/trtexec --fp16 --onnx=/content/model.onnx --minShapes=input:1x3x8x8 --optShapes=input:1x3x720x1280 --maxShapes=input:1x3x1080x1920 --saveEngine=/content/model.engine --tacticSources=+CUDNN,+CUBLAS,+CUBLAS_LT"
      ],
      "metadata": {
        "id": "jSQxoSnXOJq0"
      },
      "execution_count": null,
      "outputs": []
    },
    {
      "cell_type": "code",
      "source": [
        "#@title inference.py\n",
        "%%writefile /workspace/tensorrt/VSGAN-tensorrt-docker/inference.py\n",
        "import sys\n",
        "\n",
        "sys.path.append('/workspace/tensorrt/VSGAN-tensorrt-docker/')\n",
        "import vapoursynth as vs\n",
        "\n",
        "# select what you installed/want\n",
        "\"\"\"\n",
        "from src.esrgan import ESRGAN_inference  # esrgan and realesrgan\n",
        "from src.SRVGGNetCompact import SRVGGNetCompactRealESRGAN  # realesrgan anime video\n",
        "from src.vfi_model import (\n",
        "    video_model,\n",
        ")  # any vfi model, in this case rvp1 as demonstration\n",
        "from src.sepconv_enhanced import sepconv_model  # uses cupy, no tensorrt\n",
        "from src.rife import RIFE  # tensorrt not possible\n",
        "from vsswinir import (\n",
        "    SwinIR,\n",
        ")  # https://github.com/HolyWu/vs-swinir # currently not tensorrt, didn't try\n",
        "from src.egvsr import egvsr_model  # currently not tensorrt\n",
        "from src.cugan import cugan_inference\n",
        "from vsbasicvsrpp import BasicVSRPP\n",
        "from src.realbasicvsr import realbasicvsr_model\n",
        "from src.film import FILM_inference\n",
        "from src.pan import PAN_inference\n",
        "from src.IFRNet import IFRNet\n",
        "from src.M2M import M2M\n",
        "from src.IFUNet import IFUNet\n",
        "from src.eisai import EISAI\n",
        "\"\"\"\n",
        "from src.rife import RIFE  # tensorrt not possible\n",
        "\n",
        "core = vs.core\n",
        "vs_api_below4 = vs.__api_version__.api_major < 4\n",
        "core = vs.core\n",
        "core.num_threads = 4  # can influence ram usage\n",
        "\n",
        "# select what you installed/want\n",
        "core.std.LoadPlugin(path='/usr/lib/x86_64-linux-gnu/libffms2.so')\n",
        "# load if compiled\n",
        "#core.std.LoadPlugin(path='/usr/local/lib/libvstrt.so')\n",
        "\n",
        "video_path = \"480.mkv\"\n",
        "# cfr video\n",
        "clip = core.ffms2.Source(source=video_path)\n",
        "# vfr video (untested)\n",
        "# clip = core.ffms2.Source(source='input.mkv', fpsnum = 24000, fpsden = 1001)\n",
        "\n",
        "# resizing with descale\n",
        "# Debilinear, Debicubic, Delanczos, Despline16, Despline36, Despline64, Descale\n",
        "# clip = core.descale.Debilinear(clip, 1280, 720)\n",
        "\n",
        "###############################################\n",
        "# COLORSPACE\n",
        "###############################################\n",
        "# convert colorspace\n",
        "clip = vs.core.resize.Bicubic(clip, format=vs.RGBS, matrix_in_s=\"709\")\n",
        "# convert colorspace + resizing\n",
        "#clip = vs.core.resize.Bicubic(\n",
        "#    clip, width=848, height=480, format=vs.RGBS, matrix_in_s=\"709\"\n",
        "#)\n",
        "\n",
        "###############################################\n",
        "\n",
        "# these demos work out of the box because docker also downloads the needed models, if you want other models, just add them\n",
        "# you can combine everything however you want\n",
        "\n",
        "###############################################\n",
        "# MODELS (CUDA)\n",
        "###############################################\n",
        "# sepconv\n",
        "# clip = sepconv_model(clip)\n",
        "# RIFE4\n",
        "# rife4 can do cuda and ncnn, but only cuda is supported in docker\n",
        "# models: rife40 | rife41 | sudo_rife4\n",
        "# only use sudo_rife4 for 2x\n",
        "#clip = RIFE(\n",
        "#    clip,\n",
        "#    multi=2,\n",
        "#    scale=1.0,\n",
        "#    fp16=False,\n",
        "#    fastmode=False,\n",
        "#    ensemble=True,\n",
        "#    model_version=\"rife40\",\n",
        "#    psnr_dedup=False,\n",
        "#    psnr_value=70,\n",
        "#    ssim_dedup=False,\n",
        "#    ms_ssim_dedup=False,\n",
        "#    ssim_value=0.999,\n",
        "#    backend_inference=\"cuda\",\n",
        "#)\n",
        "# VFI example for jit models\n",
        "# clip = video_model(clip, fp16=False, model_path=\"/workspace/rvpV1_105661_G.pt\")\n",
        "# SwinIR\n",
        "# clip = SwinIR(clip, task=\"lightweight_sr\", scale=2)\n",
        "# ESRGAN / RealESRGAN\n",
        "# tta_mode 1-7, means the amount of times the image gets processed while being mirrored\n",
        "#clip = ESRGAN_inference(\n",
        "#    clip=clip,\n",
        "#    model_path=\"/workspace/4x_fatal_Anime_500000_G.pth\",\n",
        "#    tile_x=400,\n",
        "#    tile_y=400,\n",
        "#    tile_pad=10,\n",
        "#    fp16=False,\n",
        "#    tta=False,\n",
        "#    tta_mode=1,\n",
        "#)\n",
        "# clip = ESRGAN_inference(\n",
        "#    clip=clip,\n",
        "#    model_path=\"/workspace/RealESRGAN_x4plus_anime_6B.pth\",\n",
        "#    tile_x=480,\n",
        "#    tile_y=480,\n",
        "#    tile_pad=16,\n",
        "#    fp16=False,\n",
        "#    tta=False,\n",
        "#    tta_mode=1,\n",
        "# )\n",
        "# RealESRGAN Anime Video example\n",
        "# backends: tensorrt, cuda, onnx, quantized_onnx\n",
        "# clip = SRVGGNetCompactRealESRGAN(clip, scale=2, fp16=True, backend_inference=\"tensorrt\")\n",
        "# EGVSR\n",
        "# clip = egvsr_model(clip, interval=15)\n",
        "# BasicVSR++\n",
        "# 0 = REDS, 1 = Vimeo-90K (BI), 2 = Vimeo-90K (BD), 3 = NTIRE 2021 - Track 1, 4 = NTIRE 2021 - Track 2, 5 = NTIRE 2021 - Track 3\n",
        "# clip = BasicVSRPP(\n",
        "#    clip,\n",
        "#    model=1,\n",
        "#    interval=30,\n",
        "#    tile_x=0,\n",
        "#    tile_y=0,\n",
        "#    tile_pad=16,\n",
        "#    device_type=\"cuda\",\n",
        "#    device_index=0,\n",
        "#    fp16=False,\n",
        "#    cpu_cache=False,\n",
        "# )\n",
        "# RealBasicVSR\n",
        "# clip = realbasicvsr_model(clip, interval=15, fp16=True)\n",
        "# cugan\n",
        "# scales: 2 | 3 | 4, kind_model: no_denoise | denoise3x | conservative, backend_inference: cuda | onnx, pro: True/False (only available for 2x and 3x scale)\n",
        "# only cuda supports tiling\n",
        "# clip = cugan_inference(\n",
        "#    clip,\n",
        "#    fp16=True,\n",
        "#    scale=2,\n",
        "#    kind_model=\"no_denoise\",\n",
        "#    backend_inference=\"cuda\",\n",
        "#    tile_x=512,\n",
        "#    tile_y=512,\n",
        "#    tile_pad=10,\n",
        "#    pre_pad=0,\n",
        "# )\n",
        "# FILM\n",
        "# models: l1 | vgg | style\n",
        "# clip = FILM_inference(clip, model_choise=\"vgg\")\n",
        "# vs-mlrt (you need to create the engine yourself)\n",
        "# clip = core.trt.Model(\n",
        "#    clip,\n",
        "#    engine_path=\"/content/model.engine\",\n",
        "#    tilesize=[854, 480],\n",
        "#    num_streams=3,\n",
        "#)\n",
        "# vs-mlrt (DPIR)\n",
        "# DPIR does need an extra channel, replace BlankClip with grayscale clip\n",
        "# sigma = 10.0\n",
        "# noise_level_map = core.std.BlankClip(clip, width=1280, height=720, format=vs.GRAYS)\n",
        "# clip = core.trt.Model(\n",
        "#    [clip, core.std.BlankClip(noise_level_map, color=sigma / 255.0)],\n",
        "#    engine_path=\"model.engine\",\n",
        "#    tilesize=[1280, 720],\n",
        "#    num_streams=2,\n",
        "# )\n",
        "# PAN\n",
        "# scale = 2 | 3 | 4\n",
        "# clip = PAN_inference(clip, scale=2, fp16=True)\n",
        "# IFRNet\n",
        "# model: small | large\n",
        "# clip = IFRNet(clip, model=\"small\")\n",
        "# M2M\n",
        "# clip = M2M(clip, multi=4)\n",
        "# IFUnet\n",
        "# clip = IFUNet(clip)\n",
        "# EISAI (needs 960x540 for now)\n",
        "# clip = EISAI(clip)\n",
        "\n",
        "###############################################\n",
        "# NCNN\n",
        "###############################################\n",
        "# from src.SRVGGNetCompact_ncnn import SRVGGNetCompactRealESRGAN_ncnn\n",
        "\n",
        "# Rife ncnn (C++)\n",
        "# https://github.com/styler00dollar/VapourSynth-RIFE-ncnn-Vulkan\n",
        "clip = core.misc.SCDetect(clip=clip, threshold=0.100)\n",
        "clip = core.rife.RIFE(\n",
        "    clip,\n",
        "    model=9,\n",
        "    multiplier=2,\n",
        "    gpu_id=0,\n",
        "    gpu_thread=4,\n",
        "    tta=False,\n",
        "    uhd=False,\n",
        "    skip=False,\n",
        "    sc=True,\n",
        ")\n",
        "\n",
        "# Rife ncnn (python api)\n",
        "# clip = RIFE(\n",
        "#    clip,\n",
        "#    multi=2,\n",
        "#    scale=1.0,\n",
        "#    fp16=True,\n",
        "#    fastmode=False,\n",
        "#    ensemble=True,\n",
        "#    psnr_dedup=False,\n",
        "#    psnr_value=70,\n",
        "#    ssim_dedup=True,\n",
        "#    ms_ssim_dedup=False,\n",
        "#    ssim_value=0.999,\n",
        "#    backend_inference=\"ncnn\",\n",
        "# )\n",
        "\n",
        "###############################################\n",
        "# Deduplicated inference for faster inference\n",
        "# only use this for upscaling\n",
        "###############################################\n",
        "# from src.dedup import return_frames\n",
        "\n",
        "# frames_duplicated, frames_duplicating = return_frames(video_path, psnr_value=50)\n",
        "# clip = core.std.DeleteFrames(clip, frames_duplicated)\n",
        "# do upscaling here\n",
        "# clip = core.std.DuplicateFrames(clip, frames_duplicating)\n",
        "###############################################\n",
        "# Inference with scene detection\n",
        "# only use this for frame interpolation\n",
        "###############################################\n",
        "# from src.scene_detect import find_scenes\n",
        "# skip_framelist = find_scenes(video_path, threshold=30)\n",
        "# clip = RIFE(\n",
        "#    clip,\n",
        "#    multi=2,\n",
        "#    scale=1.0,\n",
        "#    fp16=True,\n",
        "#    fastmode=False,\n",
        "#    ensemble=True,\n",
        "#    psnr_dedup=False,\n",
        "#    psnr_value=70,\n",
        "#    ssim_dedup=True,\n",
        "#    ms_ssim_dedup=False,\n",
        "#    ssim_value=0.999,\n",
        "#    skip_framelist=skip_framelist,\n",
        "# )\n",
        "###############################################\n",
        "# OUTPUT\n",
        "###############################################\n",
        "clip = vs.core.resize.Bicubic(clip, format=vs.YUV420P8, matrix_s=\"709\")\n",
        "clip.set_output()\n"
      ],
      "metadata": {
        "id": "HBST39-ROdqc",
        "cellView": "form"
      },
      "execution_count": null,
      "outputs": []
    },
    {
      "cell_type": "code",
      "execution_count": null,
      "metadata": {
        "id": "QOker8lwgE2r"
      },
      "outputs": [],
      "source": [
        "%cd /workspace/tensorrt/VSGAN-tensorrt-docker/\n",
        "!sudo rm -rf /workspace/tensorrt/VSGAN-tensorrt-docker/example.mkv\n",
        "!vspipe -c y4m inference.py - | ffmpeg -i pipe: /workspace/tensorrt/VSGAN-tensorrt-docker/example.mkv"
      ]
    },
    {
      "cell_type": "code",
      "execution_count": null,
      "metadata": {
        "id": "FBc_O05UnJ_5"
      },
      "outputs": [],
      "source": [
        "%cd /workspace/tensorrt/VSGAN-tensorrt-docker/\n",
        "!sudo rm -rf /workspace/tensorrt/VSGAN-tensorrt-docker/example.mkv\n",
        "!vspipe -c y4m inference.py - | x264 - --demuxer y4m -o /workspace/tensorrt/VSGAN-tensorrt-docker/example.mkv"
      ]
    },
    {
      "cell_type": "code",
      "source": [
        "%cd /workspace/tensorrt/VSGAN-tensorrt-docker/\n",
        "!sudo rm -rf /workspace/tensorrt/VSGAN-tensorrt-docker/example.mkv\n",
        "!vspipe -c y4m inference.py - | x265 - --y4m --crf 23 -o /workspace/tensorrt/VSGAN-tensorrt-docker/example.mkv"
      ],
      "metadata": {
        "id": "CY058j71oaNY"
      },
      "execution_count": null,
      "outputs": []
    }
  ],
  "metadata": {
    "accelerator": "GPU",
    "colab": {
      "collapsed_sections": [],
      "name": "Colab-VSGAN.ipynb",
      "private_outputs": true,
      "provenance": [],
      "machine_shape": "hm"
    },
    "kernelspec": {
      "display_name": "Python 3",
      "name": "python3"
    },
    "language_info": {
      "name": "python"
    },
    "gpuClass": "standard"
  },
  "nbformat": 4,
  "nbformat_minor": 0
}
